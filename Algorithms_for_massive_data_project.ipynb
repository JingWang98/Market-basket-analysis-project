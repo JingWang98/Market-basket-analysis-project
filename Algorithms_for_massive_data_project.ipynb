{
  "nbformat": 4,
  "nbformat_minor": 0,
  "metadata": {
    "colab": {
      "provenance": [],
      "authorship_tag": "ABX9TyP+mEYWs+Xd4fG1p9rlt5rV",
      "include_colab_link": true
    },
    "kernelspec": {
      "name": "python3",
      "display_name": "Python 3"
    },
    "language_info": {
      "name": "python"
    }
  },
  "cells": [
    {
      "cell_type": "markdown",
      "metadata": {
        "id": "view-in-github",
        "colab_type": "text"
      },
      "source": [
        "<a href=\"https://colab.research.google.com/github/JingWang98/Market-basket-analysis-project/blob/main/Algorithms_for_massive_data_project.ipynb\" target=\"_parent\"><img src=\"https://colab.research.google.com/assets/colab-badge.svg\" alt=\"Open In Colab\"/></a>"
      ]
    },
    {
      "cell_type": "markdown",
      "source": [
        "Market Basket Analysis (Algorithms for Massive Data Project)\n",
        "\n",
        "Author: Jing Wang\n",
        "\n",
        "A.Y. 2023-2024"
      ],
      "metadata": {
        "id": "o_IHAFG2NPyc"
      }
    },
    {
      "cell_type": "code",
      "source": [
        "!pip install pyspark\n",
        "import pyspark\n",
        "\n",
        "from itertools import combinations\n",
        "import os\n",
        "from pyspark.sql import SparkSession\n",
        "from pyspark.sql.functions import max\n",
        "from pyspark.sql.functions import min\n",
        "from pyspark.sql import functions as F\n",
        "import matplotlib.pyplot as plt"
      ],
      "metadata": {
        "id": "Y9oiRSdHNhXS",
        "colab": {
          "base_uri": "https://localhost:8080/"
        },
        "collapsed": true,
        "outputId": "9381a5a0-24e8-4418-dff6-4b8ea04e7f99"
      },
      "execution_count": 1,
      "outputs": [
        {
          "output_type": "stream",
          "name": "stdout",
          "text": [
            "Collecting pyspark\n",
            "  Downloading pyspark-3.5.2.tar.gz (317.3 MB)\n",
            "\u001b[2K     \u001b[90m━━━━━━━━━━━━━━━━━━━━━━━━━━━━━━━━━━━━━━━━\u001b[0m \u001b[32m317.3/317.3 MB\u001b[0m \u001b[31m1.4 MB/s\u001b[0m eta \u001b[36m0:00:00\u001b[0m\n",
            "\u001b[?25h  Preparing metadata (setup.py) ... \u001b[?25l\u001b[?25hdone\n",
            "Requirement already satisfied: py4j==0.10.9.7 in /usr/local/lib/python3.10/dist-packages (from pyspark) (0.10.9.7)\n",
            "Building wheels for collected packages: pyspark\n",
            "  Building wheel for pyspark (setup.py) ... \u001b[?25l\u001b[?25hdone\n",
            "  Created wheel for pyspark: filename=pyspark-3.5.2-py2.py3-none-any.whl size=317812365 sha256=66e634bf8b5fc9e8c9077718aedfb282a069f4e39c32c60a45464e539003c979\n",
            "  Stored in directory: /root/.cache/pip/wheels/34/34/bd/03944534c44b677cd5859f248090daa9fb27b3c8f8e5f49574\n",
            "Successfully built pyspark\n",
            "Installing collected packages: pyspark\n",
            "Successfully installed pyspark-3.5.2\n"
          ]
        }
      ]
    },
    {
      "cell_type": "code",
      "source": [
        "# connect to kaggle using credentials\n",
        "os.environ['KAGGLE_USERNAME'] = 'XXXXXX'\n",
        "os.environ['KAGGLE_KEY'] = 'XXXXXX'\n",
        "\n",
        "# download the dataset\n",
        "!kaggle datasets download -d asaniczka/1-3m-linkedin-jobs-and-skills-2024\n",
        "\n",
        "# dataset unzip\n",
        "!unzip 1-3m-linkedin-jobs-and-skills-2024.zip -d data"
      ],
      "metadata": {
        "id": "d2g4MxCgOckj",
        "colab": {
          "base_uri": "https://localhost:8080/"
        },
        "outputId": "c6e569ce-c8b3-4e13-ec1d-d74128f1efc8"
      },
      "execution_count": 2,
      "outputs": [
        {
          "output_type": "stream",
          "name": "stdout",
          "text": [
            "Dataset URL: https://www.kaggle.com/datasets/asaniczka/1-3m-linkedin-jobs-and-skills-2024\n",
            "License(s): ODC Attribution License (ODC-By)\n",
            "Downloading 1-3m-linkedin-jobs-and-skills-2024.zip to /content\n",
            " 99% 1.86G/1.88G [00:25<00:00, 143MB/s]\n",
            "100% 1.88G/1.88G [00:25<00:00, 79.1MB/s]\n",
            "Archive:  1-3m-linkedin-jobs-and-skills-2024.zip\n",
            "  inflating: data/job_skills.csv     \n",
            "  inflating: data/job_summary.csv    \n",
            "  inflating: data/linkedin_job_postings.csv  \n"
          ]
        }
      ]
    },
    {
      "cell_type": "markdown",
      "source": [
        "Initialize PySpark session"
      ],
      "metadata": {
        "id": "pMA-qW66UHD1"
      }
    },
    {
      "cell_type": "code",
      "source": [
        "spark = SparkSession.builder.appName(\"Apriori\").getOrCreate()"
      ],
      "metadata": {
        "id": "JrSOkiGUK2dV"
      },
      "execution_count": 3,
      "outputs": []
    },
    {
      "cell_type": "code",
      "source": [
        "df = spark.read.csv(\"/content/data/job_skills.csv\", header = True,sep=\",\")\n",
        "df.show()"
      ],
      "metadata": {
        "id": "mi5Fj2jmRmnM",
        "colab": {
          "base_uri": "https://localhost:8080/"
        },
        "outputId": "b52b89a5-787d-4fce-cee7-a953dedb0923"
      },
      "execution_count": 4,
      "outputs": [
        {
          "output_type": "stream",
          "name": "stdout",
          "text": [
            "+--------------------+--------------------+\n",
            "|            job_link|          job_skills|\n",
            "+--------------------+--------------------+\n",
            "|https://www.linke...|Building Custodia...|\n",
            "|https://www.linke...|Customer service,...|\n",
            "|https://www.linke...|Applied Behavior ...|\n",
            "|https://www.linke...|Electrical Engine...|\n",
            "|https://www.linke...|Electrical Assemb...|\n",
            "|https://www.linke...|Access Control, V...|\n",
            "|https://www.linke...|Consultation, Sup...|\n",
            "|https://www.linke...|Veterinary Recept...|\n",
            "|https://www.linke...|Optical Inspectio...|\n",
            "|https://www.linke...|HVAC, troubleshoo...|\n",
            "|https://www.linke...|Host/Server Assis...|\n",
            "|https://www.linke...|Apartment mainten...|\n",
            "|https://www.linke...|Fiber Optic Cable...|\n",
            "|https://www.linke...|CT Technologist, ...|\n",
            "|https://ca.linked...|SAP, DRMIS, Data ...|\n",
            "|https://www.linke...|Debt and equity o...|\n",
            "|https://ca.linked...|Biomedical Engine...|\n",
            "|https://www.linke...|Laboratory Techni...|\n",
            "|https://www.linke...|Program Managemen...|\n",
            "|https://www.linke...|Hiring, Training,...|\n",
            "+--------------------+--------------------+\n",
            "only showing top 20 rows\n",
            "\n"
          ]
        }
      ]
    },
    {
      "cell_type": "code",
      "source": [
        "df.printSchema() # check for null value"
      ],
      "metadata": {
        "id": "1f7tAUC-5pD6",
        "colab": {
          "base_uri": "https://localhost:8080/"
        },
        "outputId": "be9ac41e-22a3-49ec-a673-20d0db789571"
      },
      "execution_count": 5,
      "outputs": [
        {
          "output_type": "stream",
          "name": "stdout",
          "text": [
            "root\n",
            " |-- job_link: string (nullable = true)\n",
            " |-- job_skills: string (nullable = true)\n",
            "\n"
          ]
        }
      ]
    },
    {
      "cell_type": "code",
      "source": [
        "df.describe().show()"
      ],
      "metadata": {
        "id": "DWt1iSUd5r1T",
        "colab": {
          "base_uri": "https://localhost:8080/"
        },
        "outputId": "627e9d85-2c09-49f5-d85c-1674fb5d8494"
      },
      "execution_count": 6,
      "outputs": [
        {
          "output_type": "stream",
          "name": "stdout",
          "text": [
            "+-------+--------------------+-------------------------------+\n",
            "|summary|            job_link|                     job_skills|\n",
            "+-------+--------------------+-------------------------------+\n",
            "|  count|             1296381|                        1294374|\n",
            "|   mean|                NULL|                           NULL|\n",
            "| stddev|                NULL|                           NULL|\n",
            "|    min|https://ae.linked...|           \"* Maintenance, *...|\n",
            "|    max|https://za.linked...|志愿服务, 沟通, 陪伴, 临终服...|\n",
            "+-------+--------------------+-------------------------------+\n",
            "\n"
          ]
        }
      ]
    },
    {
      "cell_type": "code",
      "source": [
        "df = df.dropna()\n",
        "df_skills = df.select('job_skills')\n",
        "df_skills.show()"
      ],
      "metadata": {
        "id": "eQ5P-vpb3rD0",
        "colab": {
          "base_uri": "https://localhost:8080/"
        },
        "outputId": "b57dda21-2c7f-4d6c-e4ef-6523ccd0bd58"
      },
      "execution_count": 7,
      "outputs": [
        {
          "output_type": "stream",
          "name": "stdout",
          "text": [
            "+--------------------+\n",
            "|          job_skills|\n",
            "+--------------------+\n",
            "|Building Custodia...|\n",
            "|Customer service,...|\n",
            "|Applied Behavior ...|\n",
            "|Electrical Engine...|\n",
            "|Electrical Assemb...|\n",
            "|Access Control, V...|\n",
            "|Consultation, Sup...|\n",
            "|Veterinary Recept...|\n",
            "|Optical Inspectio...|\n",
            "|HVAC, troubleshoo...|\n",
            "|Host/Server Assis...|\n",
            "|Apartment mainten...|\n",
            "|Fiber Optic Cable...|\n",
            "|CT Technologist, ...|\n",
            "|SAP, DRMIS, Data ...|\n",
            "|Debt and equity o...|\n",
            "|Biomedical Engine...|\n",
            "|Laboratory Techni...|\n",
            "|Program Managemen...|\n",
            "|Hiring, Training,...|\n",
            "+--------------------+\n",
            "only showing top 20 rows\n",
            "\n"
          ]
        }
      ]
    },
    {
      "cell_type": "code",
      "source": [
        "df_with_counts = df_skills.withColumn(\"counts\", F.size(F.split(F.col(\"job_skills\"), \",\")))\n",
        "df_with_counts.show()"
      ],
      "metadata": {
        "id": "d9D1Grm7-LvZ",
        "colab": {
          "base_uri": "https://localhost:8080/"
        },
        "outputId": "9c2b2aa2-563a-46ab-b033-556b25597260"
      },
      "execution_count": 8,
      "outputs": [
        {
          "output_type": "stream",
          "name": "stdout",
          "text": [
            "+--------------------+------+\n",
            "|          job_skills|counts|\n",
            "+--------------------+------+\n",
            "|Building Custodia...|    14|\n",
            "|Customer service,...|    19|\n",
            "|Applied Behavior ...|    20|\n",
            "|Electrical Engine...|    35|\n",
            "|Electrical Assemb...|    11|\n",
            "|Access Control, V...|    19|\n",
            "|Consultation, Sup...|    29|\n",
            "|Veterinary Recept...|    22|\n",
            "|Optical Inspectio...|    17|\n",
            "|HVAC, troubleshoo...|     9|\n",
            "|Host/Server Assis...|    29|\n",
            "|Apartment mainten...|    19|\n",
            "|Fiber Optic Cable...|    16|\n",
            "|CT Technologist, ...|    11|\n",
            "|SAP, DRMIS, Data ...|    19|\n",
            "|Debt and equity o...|    27|\n",
            "|Biomedical Engine...|    18|\n",
            "|Laboratory Techni...|    28|\n",
            "|Program Managemen...|    23|\n",
            "|Hiring, Training,...|    33|\n",
            "+--------------------+------+\n",
            "only showing top 20 rows\n",
            "\n"
          ]
        }
      ]
    },
    {
      "cell_type": "code",
      "source": [
        "max_count = df_with_counts.select(max('counts')).collect()[0][0]\n",
        "max_rows = df_with_counts.filter(df_with_counts['counts'] == max_count)\n",
        "max_rows.show()\n",
        "min_count = df_with_counts.select(min('counts')).collect()[0][0]\n",
        "min_rows = df_with_counts.filter(df_with_counts['counts'] == min_count)\n",
        "min_rows.show()"
      ],
      "metadata": {
        "id": "YOjjjgXsPqX9",
        "colab": {
          "base_uri": "https://localhost:8080/"
        },
        "outputId": "0102a6cc-85db-4138-e363-97b4dcb1dd2c"
      },
      "execution_count": 9,
      "outputs": [
        {
          "output_type": "stream",
          "name": "stdout",
          "text": [
            "+--------------------+------+\n",
            "|          job_skills|counts|\n",
            "+--------------------+------+\n",
            "|Clinical Manageme...|   463|\n",
            "+--------------------+------+\n",
            "\n",
            "+--------------------+------+\n",
            "|          job_skills|counts|\n",
            "+--------------------+------+\n",
            "|I'm unable to ext...|     1|\n",
            "|Credentialing tec...|     1|\n",
            "|I am unable to ex...|     1|\n",
            "|       Communication|     1|\n",
            "|               Sales|     1|\n",
            "|No skills framewo...|     1|\n",
            "|Oklahoma Certific...|     1|\n",
            "| High School Diploma|     1|\n",
            "|       Delta T Group|     1|\n",
            "|        Microbiology|     1|\n",
            "|               Yupro|     1|\n",
            "|No technical skil...|     1|\n",
            "|          Healthcare|     1|\n",
            "|            AppleOne|     1|\n",
            "|     ACEM assessment|     1|\n",
            "|                None|     1|\n",
            "|Temporary or casu...|     1|\n",
            "|I am not able to ...|     1|\n",
            "|           Team work|     1|\n",
            "|Neonatal Register...|     1|\n",
            "+--------------------+------+\n",
            "only showing top 20 rows\n",
            "\n"
          ]
        }
      ]
    },
    {
      "cell_type": "markdown",
      "source": [
        "if each row represents a job position, i want to see the average number of skills for each job"
      ],
      "metadata": {
        "id": "RrZm-cw__-VJ"
      }
    },
    {
      "cell_type": "code",
      "source": [
        "total_sum = df_with_counts.agg(F.sum(\"counts\").alias(\"total_sum\")).collect()[0][\"total_sum\"]\n",
        "num_rows = df.count()\n",
        "average = total_sum / num_rows\n",
        "print(f\"Average number of skills required by each job: {average}\")\n"
      ],
      "metadata": {
        "id": "E2nD15L2_SEq",
        "colab": {
          "base_uri": "https://localhost:8080/"
        },
        "outputId": "35efb38f-56cb-451b-bd92-e401ef99088b"
      },
      "execution_count": 10,
      "outputs": [
        {
          "output_type": "stream",
          "name": "stdout",
          "text": [
            "Average number of skills required by each job: 20.789084144149992\n"
          ]
        }
      ]
    },
    {
      "cell_type": "markdown",
      "source": [
        "Sample the data"
      ],
      "metadata": {
        "id": "RGwv7xENAeNp"
      }
    },
    {
      "cell_type": "code",
      "source": [
        "sample = df_skills.sample(False,0.01,seed=123)\n",
        "sample.show()"
      ],
      "metadata": {
        "id": "fHFaJcbtAUO0",
        "colab": {
          "base_uri": "https://localhost:8080/"
        },
        "outputId": "aee709de-daab-4483-bc0c-02c9214b5d1e"
      },
      "execution_count": 11,
      "outputs": [
        {
          "output_type": "stream",
          "name": "stdout",
          "text": [
            "+--------------------+\n",
            "|          job_skills|\n",
            "+--------------------+\n",
            "|Service Mentality...|\n",
            "|ECE units, Teachi...|\n",
            "|Quantity Surveyin...|\n",
            "|CDL B, Truck driv...|\n",
            "|Accounting, Night...|\n",
            "|Safety, Quality, ...|\n",
            "|Food Safety Stand...|\n",
            "|Refrigeration uni...|\n",
            "|Skills Frameworks...|\n",
            "|Military enlistme...|\n",
            "|Customer service,...|\n",
            "|Statistical Analy...|\n",
            "|Clinical Care, Nu...|\n",
            "|Communication, Cu...|\n",
            "|Housekeeping, Cus...|\n",
            "|Financial Analysi...|\n",
            "|Automotive Servic...|\n",
            "|ATSM, AAI, Phase ...|\n",
            "|Administrative As...|\n",
            "|Tax preparation, ...|\n",
            "+--------------------+\n",
            "only showing top 20 rows\n",
            "\n"
          ]
        }
      ]
    },
    {
      "cell_type": "code",
      "source": [
        "sample.count()"
      ],
      "metadata": {
        "colab": {
          "base_uri": "https://localhost:8080/"
        },
        "id": "2g2MjX4gzP7b",
        "outputId": "50566cea-c5ef-4212-b1c5-033fa9a6389b"
      },
      "execution_count": 12,
      "outputs": [
        {
          "output_type": "execute_result",
          "data": {
            "text/plain": [
              "12851"
            ]
          },
          "metadata": {},
          "execution_count": 12
        }
      ]
    },
    {
      "cell_type": "code",
      "source": [
        "rdd = sample.rdd\n",
        "rdd.first()"
      ],
      "metadata": {
        "id": "yVhdZzgJBEyi",
        "colab": {
          "base_uri": "https://localhost:8080/"
        },
        "outputId": "f5a78ad6-c91b-414b-ad2f-816d4ecce9dc"
      },
      "execution_count": 13,
      "outputs": [
        {
          "output_type": "execute_result",
          "data": {
            "text/plain": [
              "Row(job_skills='Service Mentality, Attention to Detail, Sense of Urgency, Initiative, Flexibility, Logic, Problemsolving, Customer service, Tact, Professionalism, HIPAA, PHI, Federal and state laws, Strong service mentality, Telephone etiquette, Personal etiquette, Warm, Positive, Energetic, Professional, Oral communication, Written communication, Tactful communication, Diplomatic communication, Personnel recruitment, Performance management, Performance assessment, Selfdevelopment, Proficient in computer applications, Word, Excel, Coordinating, Prioritizing, Multitasking, Opportunity identification, Plan of action development, Plan implementation, Plan evaluation, Conflict resolution, 401(k) Retirement Plan, Medical Plan, Vision Plan, Prescription Plan, Telehealth Plan, Dental Plan, Life and Disability Insurance, Paid Time Off, Extended Illness Days, Colleague Referral Bonus, Tuition Reimbursement, Commuter Benefits, Dependent Care Spending Account, Employee Discounts')"
            ]
          },
          "metadata": {},
          "execution_count": 13
        }
      ]
    },
    {
      "cell_type": "markdown",
      "source": [
        "Retrieve the number of partitions of the RDD"
      ],
      "metadata": {
        "id": "lFzI_i8UbZC1"
      }
    },
    {
      "cell_type": "code",
      "source": [
        "num_partitions = rdd.getNumPartitions()\n",
        "print(num_partitions)"
      ],
      "metadata": {
        "id": "wCpvJQ7_BxBf",
        "colab": {
          "base_uri": "https://localhost:8080/"
        },
        "outputId": "b3839d1f-f169-4f28-9b59-4b1b9fc3b318"
      },
      "execution_count": 14,
      "outputs": [
        {
          "output_type": "stream",
          "name": "stdout",
          "text": [
            "6\n"
          ]
        }
      ]
    },
    {
      "cell_type": "code",
      "source": [
        "rdd_new = rdd.map(lambda x: x[0])\n",
        "rdd_new.first()"
      ],
      "metadata": {
        "id": "KXkPN1hZCaG9",
        "colab": {
          "base_uri": "https://localhost:8080/",
          "height": 137
        },
        "outputId": "c073aaa3-9b5f-4e01-ba5b-2337a15d8e60"
      },
      "execution_count": 15,
      "outputs": [
        {
          "output_type": "execute_result",
          "data": {
            "text/plain": [
              "'Service Mentality, Attention to Detail, Sense of Urgency, Initiative, Flexibility, Logic, Problemsolving, Customer service, Tact, Professionalism, HIPAA, PHI, Federal and state laws, Strong service mentality, Telephone etiquette, Personal etiquette, Warm, Positive, Energetic, Professional, Oral communication, Written communication, Tactful communication, Diplomatic communication, Personnel recruitment, Performance management, Performance assessment, Selfdevelopment, Proficient in computer applications, Word, Excel, Coordinating, Prioritizing, Multitasking, Opportunity identification, Plan of action development, Plan implementation, Plan evaluation, Conflict resolution, 401(k) Retirement Plan, Medical Plan, Vision Plan, Prescription Plan, Telehealth Plan, Dental Plan, Life and Disability Insurance, Paid Time Off, Extended Illness Days, Colleague Referral Bonus, Tuition Reimbursement, Commuter Benefits, Dependent Care Spending Account, Employee Discounts'"
            ],
            "application/vnd.google.colaboratory.intrinsic+json": {
              "type": "string"
            }
          },
          "metadata": {},
          "execution_count": 15
        }
      ]
    },
    {
      "cell_type": "code",
      "source": [
        "baskets = rdd_new.map(lambda line: line.split(', '))\n",
        "baskets.first()"
      ],
      "metadata": {
        "id": "fP7nVuF4DYWG",
        "colab": {
          "base_uri": "https://localhost:8080/"
        },
        "outputId": "d9a69c12-4415-4dc7-cd53-7b19249d1d8c"
      },
      "execution_count": 16,
      "outputs": [
        {
          "output_type": "execute_result",
          "data": {
            "text/plain": [
              "['Service Mentality',\n",
              " 'Attention to Detail',\n",
              " 'Sense of Urgency',\n",
              " 'Initiative',\n",
              " 'Flexibility',\n",
              " 'Logic',\n",
              " 'Problemsolving',\n",
              " 'Customer service',\n",
              " 'Tact',\n",
              " 'Professionalism',\n",
              " 'HIPAA',\n",
              " 'PHI',\n",
              " 'Federal and state laws',\n",
              " 'Strong service mentality',\n",
              " 'Telephone etiquette',\n",
              " 'Personal etiquette',\n",
              " 'Warm',\n",
              " 'Positive',\n",
              " 'Energetic',\n",
              " 'Professional',\n",
              " 'Oral communication',\n",
              " 'Written communication',\n",
              " 'Tactful communication',\n",
              " 'Diplomatic communication',\n",
              " 'Personnel recruitment',\n",
              " 'Performance management',\n",
              " 'Performance assessment',\n",
              " 'Selfdevelopment',\n",
              " 'Proficient in computer applications',\n",
              " 'Word',\n",
              " 'Excel',\n",
              " 'Coordinating',\n",
              " 'Prioritizing',\n",
              " 'Multitasking',\n",
              " 'Opportunity identification',\n",
              " 'Plan of action development',\n",
              " 'Plan implementation',\n",
              " 'Plan evaluation',\n",
              " 'Conflict resolution',\n",
              " '401(k) Retirement Plan',\n",
              " 'Medical Plan',\n",
              " 'Vision Plan',\n",
              " 'Prescription Plan',\n",
              " 'Telehealth Plan',\n",
              " 'Dental Plan',\n",
              " 'Life and Disability Insurance',\n",
              " 'Paid Time Off',\n",
              " 'Extended Illness Days',\n",
              " 'Colleague Referral Bonus',\n",
              " 'Tuition Reimbursement',\n",
              " 'Commuter Benefits',\n",
              " 'Dependent Care Spending Account',\n",
              " 'Employee Discounts']"
            ]
          },
          "metadata": {},
          "execution_count": 16
        }
      ]
    },
    {
      "cell_type": "code",
      "source": [
        "# Flatten the RDD\n",
        "RDD_F = baskets.flatMap(lambda line: line)\n",
        "RDD_F.first()"
      ],
      "metadata": {
        "id": "nzHQu4XDERH0",
        "colab": {
          "base_uri": "https://localhost:8080/",
          "height": 35
        },
        "outputId": "f0cda19f-f614-4c04-f5f2-0a3599c802eb"
      },
      "execution_count": 17,
      "outputs": [
        {
          "output_type": "execute_result",
          "data": {
            "text/plain": [
              "'Service Mentality'"
            ],
            "application/vnd.google.colaboratory.intrinsic+json": {
              "type": "string"
            }
          },
          "metadata": {},
          "execution_count": 17
        }
      ]
    },
    {
      "cell_type": "code",
      "source": [
        "# Count the total number of elements in the flattened RDD\n",
        "check_n_skills = RDD_F.count()\n",
        "\n",
        "print(f\"Total number of items: {check_n_skills}\")"
      ],
      "metadata": {
        "id": "HRZg79UMFJmB",
        "colab": {
          "base_uri": "https://localhost:8080/"
        },
        "outputId": "0dfe0422-3e04-4ff6-8569-4b4fda0293c4"
      },
      "execution_count": 18,
      "outputs": [
        {
          "output_type": "stream",
          "name": "stdout",
          "text": [
            "Total number of items: 267561\n"
          ]
        }
      ]
    },
    {
      "cell_type": "code",
      "source": [
        "# Remove duplicate items\n",
        "RDD_F = RDD_F.distinct()\n",
        "# Count the total number of unique items\n",
        "U_skills = RDD_F.count()\n",
        "print(f\"Total number of unique items: {U_skills}\")"
      ],
      "metadata": {
        "id": "oEpVLcNGFfSH",
        "colab": {
          "base_uri": "https://localhost:8080/"
        },
        "outputId": "c3706500-c480-4b32-f059-f5e2e43a75ef"
      },
      "execution_count": 19,
      "outputs": [
        {
          "output_type": "stream",
          "name": "stdout",
          "text": [
            "Total number of unique items: 99082\n"
          ]
        }
      ]
    },
    {
      "cell_type": "markdown",
      "source": [
        "Pair each element of RDD_F with a unique index"
      ],
      "metadata": {
        "id": "Fb_rTTBIeTFE"
      }
    },
    {
      "cell_type": "code",
      "source": [
        "RDD_F = RDD_F.zipWithIndex()\n",
        "RDD_F.take(8)"
      ],
      "metadata": {
        "id": "gr2MTSGYFtwE",
        "colab": {
          "base_uri": "https://localhost:8080/"
        },
        "outputId": "4ff79440-53e0-47e9-c0dc-2880351a98de"
      },
      "execution_count": 20,
      "outputs": [
        {
          "output_type": "execute_result",
          "data": {
            "text/plain": [
              "[('Attention to Detail', 0),\n",
              " ('Logic', 1),\n",
              " ('Professionalism', 2),\n",
              " ('Professional', 3),\n",
              " ('Proficient in computer applications', 4),\n",
              " ('Excel', 5),\n",
              " ('Conflict resolution', 6),\n",
              " ('401(k) Retirement Plan', 7)]"
            ]
          },
          "metadata": {},
          "execution_count": 20
        }
      ]
    },
    {
      "cell_type": "code",
      "source": [
        "RDD_F_index = RDD_F.collectAsMap() # transforms an hash RDD of key-value pairs into a Python dictionary."
      ],
      "metadata": {
        "id": "qTEempW7Fx-M"
      },
      "execution_count": 21,
      "outputs": []
    },
    {
      "cell_type": "code",
      "source": [
        "#transforming baskets into sets\n",
        "def sets(basket):\n",
        "    return {RDD_F_index[skill] for skill in basket}\n",
        "\n",
        "baskets = baskets.map(sets)"
      ],
      "metadata": {
        "id": "hjNREWtpF5JT"
      },
      "execution_count": 22,
      "outputs": []
    },
    {
      "cell_type": "code",
      "source": [
        "print(type(baskets))"
      ],
      "metadata": {
        "id": "G1YtrzBS9P6-",
        "colab": {
          "base_uri": "https://localhost:8080/"
        },
        "outputId": "e6eef81b-5ead-49d5-c2eb-7087246e2fd0"
      },
      "execution_count": 23,
      "outputs": [
        {
          "output_type": "stream",
          "name": "stdout",
          "text": [
            "<class 'pyspark.rdd.PipelinedRDD'>\n"
          ]
        }
      ]
    },
    {
      "cell_type": "code",
      "source": [
        "baskets.first()"
      ],
      "metadata": {
        "id": "F6mNGo16F6bx",
        "colab": {
          "base_uri": "https://localhost:8080/"
        },
        "outputId": "a8ae67ba-6403-4553-877c-776cb5c75671"
      },
      "execution_count": 24,
      "outputs": [
        {
          "output_type": "execute_result",
          "data": {
            "text/plain": [
              "{0,\n",
              " 1,\n",
              " 2,\n",
              " 3,\n",
              " 4,\n",
              " 5,\n",
              " 6,\n",
              " 7,\n",
              " 8,\n",
              " 16642,\n",
              " 16643,\n",
              " 16644,\n",
              " 16645,\n",
              " 16646,\n",
              " 16647,\n",
              " 16648,\n",
              " 16649,\n",
              " 33030,\n",
              " 33031,\n",
              " 33032,\n",
              " 33033,\n",
              " 33034,\n",
              " 33035,\n",
              " 33036,\n",
              " 33037,\n",
              " 33038,\n",
              " 33039,\n",
              " 49416,\n",
              " 49417,\n",
              " 49418,\n",
              " 49419,\n",
              " 49420,\n",
              " 49421,\n",
              " 49422,\n",
              " 49423,\n",
              " 49424,\n",
              " 65891,\n",
              " 65892,\n",
              " 65893,\n",
              " 65894,\n",
              " 65895,\n",
              " 65896,\n",
              " 65897,\n",
              " 65898,\n",
              " 65899,\n",
              " 65900,\n",
              " 82566,\n",
              " 82567,\n",
              " 82568,\n",
              " 82569,\n",
              " 82570,\n",
              " 82571,\n",
              " 82572}"
            ]
          },
          "metadata": {},
          "execution_count": 24
        }
      ]
    },
    {
      "cell_type": "markdown",
      "source": [
        "The A-Priori Algorithm"
      ],
      "metadata": {
        "id": "2EiJOlU8GVCy"
      }
    },
    {
      "cell_type": "markdown",
      "source": [
        "First pass to find the most frequent singletons"
      ],
      "metadata": {
        "id": "PoXnqNtdtpc-"
      }
    },
    {
      "cell_type": "code",
      "source": [
        "support = 300\n",
        "first_pass = baskets.flatMap(lambda basket:[(skill,1) for skill in basket]) \\\n",
        "                .reduceByKey(lambda x,y:x+y) \\\n",
        "                .filter(lambda x:x[1]>support)\n",
        "\n",
        "print(\"Number of frequent singletons:\", first_pass.count())\n"
      ],
      "metadata": {
        "id": "2WF31MB8ImFf",
        "colab": {
          "base_uri": "https://localhost:8080/"
        },
        "outputId": "50f99096-30ba-4f7b-9154-3d89a4455e16"
      },
      "execution_count": 25,
      "outputs": [
        {
          "output_type": "stream",
          "name": "stdout",
          "text": [
            "Number of frequent singletons: 61\n"
          ]
        }
      ]
    },
    {
      "cell_type": "code",
      "source": [
        "  max_s = first_pass.max(lambda x: x[1])\n",
        "  max_singleton = (list(RDD_F_index.keys())[list(RDD_F_index.values()).index(max_s[0])])\n",
        "  print(\"The most frequent singleton is:\",max_singleton)"
      ],
      "metadata": {
        "id": "KMDoGObghdxq",
        "colab": {
          "base_uri": "https://localhost:8080/"
        },
        "outputId": "3139dbc3-d949-4f28-b290-7584245cf7a3"
      },
      "execution_count": 26,
      "outputs": [
        {
          "output_type": "stream",
          "name": "stdout",
          "text": [
            "The most frequent singleton is: Communication\n"
          ]
        }
      ]
    },
    {
      "cell_type": "code",
      "source": [
        "top_5_skills = first_pass.takeOrdered(5, key=lambda x: -x[1])\n",
        "\n",
        "SKILL_1 = []\n",
        "COUNT_1 = []\n",
        "\n",
        "print(\"The most frequent singletons:\")\n",
        "for singleton in top_5_skills:\n",
        "    skill_index, count = singleton\n",
        "    # Find the key corresponding to the given value\n",
        "    keys_for_value = [key for key, value in RDD_F_index.items() if value == skill_index]\n",
        "    SKILL_1.append(keys_for_value)\n",
        "    COUNT_1.append(count)\n",
        "    print(f\"Skill_index: {skill_index}, Count: {count}\")\n",
        "    print(f\"Key corresponding to the value {skill_index}: {keys_for_value}\")"
      ],
      "metadata": {
        "id": "Q-KeBSxq_9Bn",
        "colab": {
          "base_uri": "https://localhost:8080/"
        },
        "outputId": "55eebddb-57dc-444b-ea62-746ab78f97ef"
      },
      "execution_count": 27,
      "outputs": [
        {
          "output_type": "stream",
          "name": "stdout",
          "text": [
            "The most frequent singletons:\n",
            "Skill_index: 82585, Count: 3605\n",
            "Key corresponding to the value 82585: ['Communication']\n",
            "Skill_index: 65911, Count: 2220\n",
            "Key corresponding to the value 65911: ['Teamwork']\n",
            "Skill_index: 82608, Count: 1826\n",
            "Key corresponding to the value 82608: ['Leadership']\n",
            "Skill_index: 82568, Count: 1588\n",
            "Key corresponding to the value 82568: ['Customer service']\n",
            "Skill_index: 49450, Count: 1118\n",
            "Key corresponding to the value 49450: ['Communication skills']\n"
          ]
        }
      ]
    },
    {
      "cell_type": "code",
      "source": [
        "plt.figure(figsize=(10, 6))\n",
        "SKILL_1 = [str(skill) for skill in SKILL_1]\n",
        "bars = plt.bar(SKILL_1, COUNT_1, color='orange')\n",
        "\n",
        "# Add titles and labels\n",
        "plt.title('The most frequent skills on LinkedIn', fontsize=16)\n",
        "plt.xlabel('Skills', fontsize=12)\n",
        "plt.ylabel('Frequencies', fontsize=12)\n",
        "# Add counts on top of the bars\n",
        "for bar, count in zip(bars, COUNT_1):\n",
        "    plt.text(bar.get_x() + bar.get_width() / 2, bar.get_height() - 10,\n",
        "             str(count),\n",
        "             ha='center', va='bottom', fontsize=12, color='black')\n",
        "\n",
        "plt.xticks()\n",
        "plt.tight_layout()\n",
        "plt.show()"
      ],
      "metadata": {
        "id": "w9jFn-w0Z9gR",
        "colab": {
          "base_uri": "https://localhost:8080/",
          "height": 607
        },
        "outputId": "8d5542d0-9a54-4e2b-fdbe-e2b8e4e28768"
      },
      "execution_count": 47,
      "outputs": [
        {
          "output_type": "display_data",
          "data": {
            "text/plain": [
              "<Figure size 1000x600 with 1 Axes>"
            ],
            "image/png": "[encoded data removed]"
          },
          "metadata": {}
        }
      ]
    },
    {
      "cell_type": "markdown",
      "source": [
        "Second pass to find the most frequent pairs of skills"
      ],
      "metadata": {
        "id": "n9CfURjPtzKO"
      }
    },
    {
      "cell_type": "code",
      "source": [
        "frequent_singletons = set(first_pass.map(lambda x:x[0]).collect())\n",
        "second_pass = baskets.flatMap(lambda basket:[(skill,1) for skill in combinations(sorted(basket),2)]) \\\n",
        "                 .filter(lambda x: x[0][0] in frequent_singletons) \\\n",
        "                 .filter(lambda x: x[0][1] in frequent_singletons) \\\n",
        "                 .reduceByKey(lambda x,y: x+y) \\\n",
        "                 .filter(lambda x:x[1]>support)\n",
        "print(second_pass.count())"
      ],
      "metadata": {
        "id": "2R0NF5qzIq00",
        "colab": {
          "base_uri": "https://localhost:8080/"
        },
        "outputId": "6c2766e0-636a-48d9-8c9a-336e045cded5"
      },
      "execution_count": 29,
      "outputs": [
        {
          "output_type": "stream",
          "name": "stdout",
          "text": [
            "33\n"
          ]
        }
      ]
    },
    {
      "cell_type": "code",
      "source": [
        "max_p = second_pass.max(lambda x: x[1])\n",
        "max_pair = []\n",
        "for skill in max_p[0]:\n",
        "  max_pair.append(list(RDD_F_index.keys())[list(RDD_F_index.values()).index(skill)])\n",
        "print(\"The most frequent pair of skills are\", max_pair)"
      ],
      "metadata": {
        "id": "82rb_ZTDB1Xj",
        "colab": {
          "base_uri": "https://localhost:8080/"
        },
        "outputId": "56be0427-41ad-49ec-ce93-d5a636e16a06"
      },
      "execution_count": 30,
      "outputs": [
        {
          "output_type": "stream",
          "name": "stdout",
          "text": [
            "The most frequent pair of skills are ['Teamwork', 'Communication']\n"
          ]
        }
      ]
    },
    {
      "cell_type": "code",
      "source": [
        "top_5_skills_pairs = second_pass.takeOrdered(5, key=lambda x: -x[1])\n",
        "print(\"The most frequent pair of skills:\")\n",
        "for pair in top_5_skills_pairs:\n",
        "    skills_index, count = pair\n",
        "    keys_for_value = [key for key, value in RDD_F_index.items() if value == skills_index]\n",
        "    print(f\"Skills Pair: {skills_index}, Count: {count}\")"
      ],
      "metadata": {
        "id": "Frv3TsQjXFrs",
        "colab": {
          "base_uri": "https://localhost:8080/"
        },
        "outputId": "7673393e-4617-4f09-cd67-61c88209120d"
      },
      "execution_count": 31,
      "outputs": [
        {
          "output_type": "stream",
          "name": "stdout",
          "text": [
            "The most frequent pair of skills:\n",
            "Skills Pair: (65911, 82585), Count: 1364\n",
            "Skills Pair: (82585, 82608), Count: 1161\n",
            "Skills Pair: (82568, 82585), Count: 776\n",
            "Skills Pair: (33030, 82585), Count: 672\n",
            "Skills Pair: (65911, 82608), Count: 658\n"
          ]
        }
      ]
    },
    {
      "cell_type": "code",
      "source": [
        "SKILL_2 = []\n",
        "COUNT_2 = []\n",
        "\n",
        "print(\"The most frequent pair of skills:\")\n",
        "for pair in top_5_skills_pairs:\n",
        "    skills_index, count = pair\n",
        "    skill_names =[]\n",
        "    for skill_index in skills_index:\n",
        "    # Find the key corresponding to the given value\n",
        "        skill_names += [key for key, value in RDD_F_index.items() if value == skill_index]\n",
        "    SKILL_2.append(skill_names)\n",
        "    COUNT_2.append(count)\n",
        "    print(f\"Skills: {skill_names}, Count: {count}\")"
      ],
      "metadata": {
        "id": "nZsmipoSC-qu",
        "colab": {
          "base_uri": "https://localhost:8080/"
        },
        "outputId": "e1d55b47-44e2-4d1a-a523-543258ba1a73"
      },
      "execution_count": 32,
      "outputs": [
        {
          "output_type": "stream",
          "name": "stdout",
          "text": [
            "The most frequent pair of skills:\n",
            "Skills: ['Teamwork', 'Communication'], Count: 1364\n",
            "Skills: ['Communication', 'Leadership'], Count: 1161\n",
            "Skills: ['Customer service', 'Communication'], Count: 776\n",
            "Skills: ['Problemsolving', 'Communication'], Count: 672\n",
            "Skills: ['Teamwork', 'Leadership'], Count: 658\n"
          ]
        }
      ]
    },
    {
      "cell_type": "code",
      "source": [
        "plt.figure(figsize=(10, 6))\n",
        "SKILL_2 = [str(skill) for skill in SKILL_2]\n",
        "bars_2 = plt.bar(SKILL_2, COUNT_2, color='orange')\n",
        "\n",
        "plt.title('The most frequent pairs of skills on LinkedIn', fontsize=16)\n",
        "plt.xlabel('Skills', fontsize=12)\n",
        "plt.ylabel('Frequencies', fontsize=12)\n",
        "# Add counts on top of the bars\n",
        "for bar, count in zip(bars_2, COUNT_2):\n",
        "    plt.text(bar.get_x() + bar.get_width() / 2, bar.get_height() - 20,\n",
        "             str(count),\n",
        "             ha='center', va='bottom', fontsize=12, color='black')\n",
        "plt.xticks(rotation=20)\n",
        "plt.tight_layout()\n",
        "plt.show()"
      ],
      "metadata": {
        "id": "JhX1gD-cewLd",
        "colab": {
          "base_uri": "https://localhost:8080/",
          "height": 607
        },
        "outputId": "8ee5be7e-0e96-4560-a860-1f9e26a3d2f4"
      },
      "execution_count": 45,
      "outputs": [
        {
          "output_type": "display_data",
          "data": {
            "text/plain": [
              "<Figure size 1000x600 with 1 Axes>"
            ],
            "image/png": "[encoded data removed]"
          },
          "metadata": {}
        }
      ]
    },
    {
      "cell_type": "markdown",
      "source": [
        "Third pass to find the most frequent triplets of skills"
      ],
      "metadata": {
        "id": "8XJbvFTIuCOb"
      }
    },
    {
      "cell_type": "code",
      "source": [
        "frequent_pairs = set(second_pass.map(lambda x:x[0]).collect())\n",
        "third_pass = baskets.flatMap(lambda basket:[(skill,1) for skill in combinations(sorted(basket),3)]) \\\n",
        "                 .filter(lambda x: (x[0][0],x[0][1]) in frequent_pairs) \\\n",
        "                 .filter(lambda x: (x[0][1],x[0][2]) in frequent_pairs) \\\n",
        "                 .filter(lambda x: (x[0][0],x[0][2]) in frequent_pairs) \\\n",
        "                 .reduceByKey(lambda x,y: x+y) \\\n",
        "                 .filter(lambda x:x[1]>support)\n",
        "print(third_pass.count())"
      ],
      "metadata": {
        "id": "9Mg-wgx8NdT_",
        "colab": {
          "base_uri": "https://localhost:8080/"
        },
        "outputId": "b93d0a61-be40-4669-9699-147fdbd25994"
      },
      "execution_count": 34,
      "outputs": [
        {
          "output_type": "stream",
          "name": "stdout",
          "text": [
            "4\n"
          ]
        }
      ]
    },
    {
      "cell_type": "code",
      "source": [
        "max_t = third_pass.max(lambda x: x[1])\n",
        "max_triple = []\n",
        "for skill in max_t[0]:\n",
        "  max_triple.append(list(RDD_F_index.keys())[list(RDD_F_index.values()).index(skill)])\n",
        "print(\"The most frequent triple skills are\", max_triple)"
      ],
      "metadata": {
        "id": "9fruhoWiXzBw",
        "colab": {
          "base_uri": "https://localhost:8080/"
        },
        "outputId": "1199eef1-8a5a-4997-b109-74067ca9372f"
      },
      "execution_count": 35,
      "outputs": [
        {
          "output_type": "stream",
          "name": "stdout",
          "text": [
            "The most frequent triple skills are ['Teamwork', 'Communication', 'Leadership']\n"
          ]
        }
      ]
    },
    {
      "cell_type": "code",
      "source": [
        "top_4_skills_triplets = third_pass.takeOrdered(4, key=lambda x: -x[1])"
      ],
      "metadata": {
        "id": "Gc8rf6lLXstV"
      },
      "execution_count": 36,
      "outputs": []
    },
    {
      "cell_type": "code",
      "source": [
        "print(\"The most frequent triplets of skills:\")\n",
        "for triple in top_4_skills_triplets:\n",
        "    skills_index, count = triple\n",
        "    keys_for_value = [key for key, value in RDD_F_index.items() if value == skills_index]\n",
        "    print(f\"Skills Triplets: {skills_index}, Count: {count}\")"
      ],
      "metadata": {
        "id": "BDR3exc2XcFF",
        "colab": {
          "base_uri": "https://localhost:8080/"
        },
        "outputId": "eb0111a6-8e64-435c-d423-19dbd8c20f07"
      },
      "execution_count": 37,
      "outputs": [
        {
          "output_type": "stream",
          "name": "stdout",
          "text": [
            "The most frequent triplets of skills:\n",
            "Skills Triplets: (65911, 82585, 82608), Count: 510\n",
            "Skills Triplets: (33030, 65911, 82585), Count: 402\n",
            "Skills Triplets: (65911, 82568, 82585), Count: 380\n",
            "Skills Triplets: (33030, 82568, 82585), Count: 321\n"
          ]
        }
      ]
    },
    {
      "cell_type": "code",
      "source": [
        "SKILL_3 = []\n",
        "COUNT_3 = []\n",
        "print(\"The most frequent triplets of skills:\")\n",
        "for triple in top_4_skills_triplets:\n",
        "    skills_index, count = triple\n",
        "    skill_names_trip =[]\n",
        "    for skill_index in skills_index:\n",
        "    # Find the key corresponding to the given value\n",
        "        skill_names_trip += [key for key, value in RDD_F_index.items() if value == skill_index]\n",
        "    SKILL_3.append(skill_names_trip)\n",
        "    COUNT_3.append(count)\n",
        "    print(f\"Skills: {skill_names_trip}, Count: {count}\")"
      ],
      "metadata": {
        "id": "ZvwBfNx7X4jE",
        "colab": {
          "base_uri": "https://localhost:8080/"
        },
        "outputId": "6c1223b0-314a-4406-b3d0-d49a9b0a0a6d"
      },
      "execution_count": 38,
      "outputs": [
        {
          "output_type": "stream",
          "name": "stdout",
          "text": [
            "The most frequent triplets of skills:\n",
            "Skills: ['Teamwork', 'Communication', 'Leadership'], Count: 510\n",
            "Skills: ['Problemsolving', 'Teamwork', 'Communication'], Count: 402\n",
            "Skills: ['Teamwork', 'Customer service', 'Communication'], Count: 380\n",
            "Skills: ['Problemsolving', 'Customer service', 'Communication'], Count: 321\n"
          ]
        }
      ]
    },
    {
      "cell_type": "code",
      "source": [
        "plt.figure(figsize=(10, 8))\n",
        "SKILL_3 = [str(skill) for skill in SKILL_3]\n",
        "bars_3 = plt.bar(SKILL_3, COUNT_3, color='orange')\n",
        "\n",
        "plt.title('The most frequent triplets of skills on LinkedIn', fontsize=16)\n",
        "plt.xlabel('Skills', fontsize=12)\n",
        "plt.ylabel('Frequencies', fontsize=12)\n",
        "# Add counts on top of the bars\n",
        "for bar, count in zip(bars_3, COUNT_3):\n",
        "    plt.text(bar.get_x() + bar.get_width() / 2, bar.get_height() - 5,\n",
        "             str(count),\n",
        "             ha='center', va='bottom', fontsize=12, color='black')\n",
        "\n",
        "plt.xticks(rotation=30)\n",
        "plt.tight_layout()\n",
        "plt.show()"
      ],
      "metadata": {
        "id": "MSncYSG9fsBE",
        "colab": {
          "base_uri": "https://localhost:8080/",
          "height": 807
        },
        "outputId": "634e0652-f63a-465f-b9e8-c33c48463083"
      },
      "execution_count": 48,
      "outputs": [
        {
          "output_type": "display_data",
          "data": {
            "text/plain": [
              "<Figure size 1000x800 with 1 Axes>"
            ],
            "image/png": "[encoded data removed]"
          },
          "metadata": {}
        }
      ]
    },
    {
      "cell_type": "markdown",
      "source": [
        "Define a function called apriori()"
      ],
      "metadata": {
        "id": "-YbOPjca95wM"
      }
    },
    {
      "cell_type": "code",
      "source": [
        "def apriori(baskets_collection,support,RDD_F_index):\n",
        "\n",
        "  print(\"Frequent singletons\")\n",
        "\n",
        "  first_pass = baskets_collection.flatMap(lambda basket: [(skill,1) for skill in basket]) \\\n",
        "                                .reduceByKey(lambda x,y: x+y) \\\n",
        "                                .filter(lambda x: x[1]>support)\n",
        "\n",
        "  first_pass_c = first_pass.count()\n",
        "\n",
        "  if first_pass_c == 0:\n",
        "    print(\"There are no frequent singletons.\")\n",
        "    return\n",
        "\n",
        "  print(\"Number of frequent singletons:\",first_pass_c)\n",
        "\n",
        "  max_s = first_pass.max(lambda x: x[1])\n",
        "  max_singleton = (list(RDD_F_index.keys())[list(RDD_F_index.values()).index(max_s[0])])\n",
        "  print(\"The most frequent singleton is:\",max_singleton)\n",
        "\n",
        "  counts = set(first_pass.map(lambda x: (x[0],)).collect())\n",
        "\n",
        "  print()\n",
        "\n",
        "  k = 2\n",
        "\n",
        "  while True:\n",
        "\n",
        "    print(\"Itemesets of size:\",k)\n",
        "\n",
        "    pass_n = baskets_collection.flatMap(lambda basket:[(skill,1) for skill in combinations(sorted(basket),k) if\n",
        "                                                      all(item in counts for item in combinations(skill,k-1))]) \\\n",
        "                              .reduceByKey(lambda x,y: x+y) \\\n",
        "                              .filter(lambda x: x[1]>support)\n",
        "\n",
        "    pass_c = pass_n.count()\n",
        "\n",
        "    if pass_c != 0:\n",
        "      print(\"Number of frequent itemsets of size\",k,\"are:\",pass_c)\n",
        "\n",
        "      max_p = pass_n.max(lambda x: x[1])\n",
        "      max_itemset = []\n",
        "      for skill in max_p[0]:\n",
        "        max_itemset.append(list(RDD_F_index.keys())[list(RDD_F_index.values()).index(skill)])\n",
        "      print(\"The most frequent itemset of size\",k,\"is made up of:\",max_itemset)\n",
        "\n",
        "      counts = set(pass_n.map(lambda x: x[0]).collect())\n",
        "\n",
        "      print()\n",
        "\n",
        "      k+=1\n",
        "\n",
        "    else:\n",
        "      print(\"There are no frequent itemsets of size\",k)\n",
        "\n",
        "      break"
      ],
      "metadata": {
        "id": "J1xf9zdlAcx6"
      },
      "execution_count": 40,
      "outputs": []
    },
    {
      "cell_type": "code",
      "source": [
        "apriori(baskets,support,RDD_F_index)"
      ],
      "metadata": {
        "colab": {
          "base_uri": "https://localhost:8080/"
        },
        "id": "ZUeu8PKiA16-",
        "outputId": "c270524b-9814-42fc-ae32-f6cd7f6e7e4c"
      },
      "execution_count": 41,
      "outputs": [
        {
          "output_type": "stream",
          "name": "stdout",
          "text": [
            "Frequent singletons\n",
            "Number of frequent singletons: 61\n",
            "The most frequent singleton is: Communication\n",
            "\n",
            "Itemesets of size: 2\n",
            "Number of frequent itemsets of size 2 are: 33\n",
            "The most frequent itemset of size 2 is made up of: ['Teamwork', 'Communication']\n",
            "\n",
            "Itemesets of size: 3\n",
            "Number of frequent itemsets of size 3 are: 4\n",
            "The most frequent itemset of size 3 is made up of: ['Teamwork', 'Communication', 'Leadership']\n",
            "\n",
            "Itemesets of size: 4\n",
            "There are no frequent itemsets of size 4\n"
          ]
        }
      ]
    },
    {
      "cell_type": "code",
      "source": [
        "spark.stop\n"
      ],
      "metadata": {
        "id": "Vktn_90EWJrx",
        "colab": {
          "base_uri": "https://localhost:8080/",
          "height": 186
        },
        "outputId": "72b88bef-f857-4dc5-d3b9-a648c970a6b3"
      },
      "execution_count": 42,
      "outputs": [
        {
          "output_type": "execute_result",
          "data": {
            "text/plain": [
              "<bound method SparkSession.stop of <pyspark.sql.session.SparkSession object at 0x78b5aca47460>>"
            ],
            "text/html": [
              "<div style=\"max-width:800px; border: 1px solid var(--colab-border-color);\"><style>\n",
              "      pre.function-repr-contents {\n",
              "        overflow-x: auto;\n",
              "        padding: 8px 12px;\n",
              "        max-height: 500px;\n",
              "      }\n",
              "\n",
              "      pre.function-repr-contents.function-repr-contents-collapsed {\n",
              "        cursor: pointer;\n",
              "        max-height: 100px;\n",
              "      }\n",
              "    </style>\n",
              "    <pre style=\"white-space: initial; background:\n",
              "         var(--colab-secondary-surface-color); padding: 8px 12px;\n",
              "         border-bottom: 1px solid var(--colab-border-color);\"><b>pyspark.sql.session.SparkSession.stop</b><br/>def stop() -&gt; None</pre><pre class=\"function-repr-contents function-repr-contents-collapsed\" style=\"\"><a class=\"filepath\" style=\"display:none\" href=\"#\">/usr/local/lib/python3.10/dist-packages/pyspark/sql/session.py</a>Stop the underlying :class:`SparkContext`.\n",
              "\n",
              ".. versionadded:: 2.0.0\n",
              "\n",
              ".. versionchanged:: 3.4.0\n",
              "    Supports Spark Connect.\n",
              "\n",
              "Examples\n",
              "--------\n",
              "&gt;&gt;&gt; spark.stop()  # doctest: +SKIP</pre>\n",
              "      <script>\n",
              "      if (google.colab.kernel.accessAllowed && google.colab.files && google.colab.files.view) {\n",
              "        for (const element of document.querySelectorAll('.filepath')) {\n",
              "          element.style.display = 'block'\n",
              "          element.onclick = (event) => {\n",
              "            event.preventDefault();\n",
              "            event.stopPropagation();\n",
              "            google.colab.files.view(element.textContent, 1781);\n",
              "          };\n",
              "        }\n",
              "      }\n",
              "      for (const element of document.querySelectorAll('.function-repr-contents')) {\n",
              "        element.onclick = (event) => {\n",
              "          event.preventDefault();\n",
              "          event.stopPropagation();\n",
              "          element.classList.toggle('function-repr-contents-collapsed');\n",
              "        };\n",
              "      }\n",
              "      </script>\n",
              "      </div>"
            ]
          },
          "metadata": {},
          "execution_count": 42
        }
      ]
    }
  ]
}